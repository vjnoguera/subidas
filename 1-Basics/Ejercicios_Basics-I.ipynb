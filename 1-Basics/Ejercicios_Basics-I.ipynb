{
 "cells": [
  {
   "cell_type": "markdown",
   "metadata": {},
   "source": [
    "![imagen](./img/ejercicios.png)"
   ]
  },
  {
   "cell_type": "markdown",
   "metadata": {},
   "source": [
    "# Ejercicios Python Basics I"
   ]
  },
  {
   "cell_type": "markdown",
   "metadata": {},
   "source": [
    "## Ejercicio 1\n",
    "Imprime por pantalla esta cita con el siguiente formato\n",
    "\n",
    "![imagen](./img/frase_Einstein.PNG)"
   ]
  },
  {
   "cell_type": "code",
   "execution_count": 7,
   "metadata": {},
   "outputs": [
    {
     "name": "stdout",
     "output_type": "stream",
     "text": [
      "¿Por qué esta magnífica tecnología científica,\n",
      "        que ahorra trabajo y nos hace la vida mas fácil,\n",
      "            nos aporta tan poca felicidad?\n",
      "                La respuesta es esta, simplemente: porque aún no hemos aprendido a usarla con tino.\n",
      "\"Albert Einstein\"\n",
      "       \n"
     ]
    }
   ],
   "source": [
    "print ('''¿Por qué esta magnífica tecnología científica,\n",
    "        que ahorra trabajo y nos hace la vida mas fácil,\n",
    "            nos aporta tan poca felicidad?\n",
    "                La respuesta es esta, simplemente: porque aún no hemos aprendido a usarla con tino.\n",
    "\"Albert Einstein\"\n",
    "       ''')"
   ]
  },
  {
   "cell_type": "markdown",
   "metadata": {},
   "source": [
    "## Ejercicio 2\n",
    "1. Escribe el nombre de la calle de tu domicilio en una variable\n",
    "2. Escribe el numero de la calle en otra\n",
    "3. Ciudad en una tercera\n",
    "4. Codigo postal en la cuarta variable\n",
    "5. Crea una quinta variable que concatene todas ellas\n",
    "6. Imprimela por pantalla"
   ]
  },
  {
   "cell_type": "code",
   "execution_count": 10,
   "metadata": {},
   "outputs": [
    {
     "name": "stdout",
     "output_type": "stream",
     "text": [
      "Maximiliano Thous 12 Valencia 46200\n"
     ]
    }
   ],
   "source": [
    "calle = \"Maximiliano Thous\"\n",
    "numero = 12\n",
    "ciudad = \"Valencia\"\n",
    "codigo_postal= 46200\n",
    "datos_vivienda = calle + \" \" + str(numero) + \" \" + ciudad + \" \"+ str(codigo_postal)\n",
    "print (datos_vivienda)"
   ]
  },
  {
   "cell_type": "markdown",
   "metadata": {},
   "source": [
    "## Ejercicio 3\n",
    "Replica el output del ejercicio dos, pero está vez sin usar una variable intermedia que concatene todas las demas. Realiza este ejercicio en una línea, con un  único `print`"
   ]
  },
  {
   "cell_type": "code",
   "execution_count": 17,
   "metadata": {},
   "outputs": [
    {
     "name": "stdout",
     "output_type": "stream",
     "text": [
      "Maximiliano Thous 12 Valencia 46200\n"
     ]
    }
   ],
   "source": [
    "calle = \"Maximiliano Thous\"\n",
    "numero = 12\n",
    "ciudad = \"Valencia\"\n",
    "codigo_postal= 46200\n",
    "print (calle,str(numero), ciudad, str(codigo_postal))"
   ]
  },
  {
   "cell_type": "markdown",
   "metadata": {},
   "source": [
    "## Ejercicio 4\n",
    "¿Qué variables están mal escritas y por qué? Realiza primero tu hipótesis y luego ejecuta las variables para comprobarlo. En ese orden :)\n",
    "\n",
    "\n",
    "1. mi_variable = \"Economía\" # sería correcta\n",
    "2. otra_var = \"Ejercicio # faltan comillas al final\n",
    "3. True = \"Ejercicio\"True = \"Ejercicio\" # El uso de la palabra True no sería recomendable\n",
    "4. mi variab1e = \"Alpha\" # el espacio entre palabras dará problemas a la hora de declarar la variable\n",
    "5. import = 40 # sería incorrecta. import corresponde a un comando, pues nos aparece con un color diferente. Esta la hemos fallado\n",
    "6. 81mi_variable = \"Agua\" # no sería correcto empezar el nombre de la variable con numeros\n",
    "7. mi_variable10 = 6 # sería correcta"
   ]
  },
  {
   "cell_type": "markdown",
   "metadata": {},
   "source": []
  },
  {
   "cell_type": "code",
   "execution_count": 25,
   "metadata": {},
   "outputs": [],
   "source": [
    "mi_variable = \"Economía\"\n",
    "otra_var = \"Ejercicio\n",
    "True = \"Ejercicio\"\n",
    "mi variab1e = \"Alpha\"\n",
    "import = 40\n",
    "81mi_variable = \"Agua\"\n",
    "mi_variable10 = 6\n"
   ]
  },
  {
   "cell_type": "markdown",
   "metadata": {},
   "source": [
    "## Ejercicio 5\n",
    "Realiza un conversor de grados Celsius a Fahrenheit. El conversor tiene que recibir el input del usuario y devolver la conversión.\n",
    "\n",
    "La conversión de grados sigue la siguiente fórmula: F = C × (9 / 5) + 32 "
   ]
  },
  {
   "cell_type": "code",
   "execution_count": 26,
   "metadata": {},
   "outputs": [
    {
     "name": "stdout",
     "output_type": "stream",
     "text": [
      "122.0\n"
     ]
    }
   ],
   "source": [
    "celsius = input (\"introduce los grados Celsius:\")\n",
    "fahrenheit = int(celsius)*(9/5)+32\n",
    "print (fahrenheit)"
   ]
  },
  {
   "cell_type": "code",
   "execution_count": null,
   "metadata": {},
   "outputs": [],
   "source": []
  },
  {
   "cell_type": "markdown",
   "metadata": {},
   "source": []
  },
  {
   "cell_type": "markdown",
   "metadata": {},
   "source": [
    "## Ejercicio 6\n",
    "Comenta en la medida de lo posible el Ejercicio 5. Será suficiente con poner al menos un comentario de línea, y otro multilínea"
   ]
  },
  {
   "cell_type": "code",
   "execution_count": null,
   "metadata": {},
   "outputs": [],
   "source": [
    "celsius = input (\"introduce los grados Celsius:\") # solicitud de datos iniciales\n",
    "''' parte de cálculo\n",
    "que necesitamos hacer'''\n",
    "fahrenheit = int(celsius)*(9/5)+32\n",
    "print (fahrenheit)"
   ]
  }
 ],
 "metadata": {
  "kernelspec": {
   "display_name": "Python 3.9.7 ('base')",
   "language": "python",
   "name": "python3"
  },
  "language_info": {
   "codemirror_mode": {
    "name": "ipython",
    "version": 3
   },
   "file_extension": ".py",
   "mimetype": "text/x-python",
   "name": "python",
   "nbconvert_exporter": "python",
   "pygments_lexer": "ipython3",
   "version": "3.12.1"
  },
  "nbTranslate": {
   "displayLangs": [
    "*"
   ],
   "hotkey": "alt-t",
   "langInMainMenu": true,
   "sourceLang": "en",
   "targetLang": "fr",
   "useGoogleTranslate": true
  },
  "varInspector": {
   "cols": {
    "lenName": 16,
    "lenType": 16,
    "lenVar": 40
   },
   "kernels_config": {
    "python": {
     "delete_cmd_postfix": "",
     "delete_cmd_prefix": "del ",
     "library": "var_list.py",
     "varRefreshCmd": "print(var_dic_list())"
    },
    "r": {
     "delete_cmd_postfix": ") ",
     "delete_cmd_prefix": "rm(",
     "library": "var_list.r",
     "varRefreshCmd": "cat(var_dic_list()) "
    }
   },
   "types_to_exclude": [
    "module",
    "function",
    "builtin_function_or_method",
    "instance",
    "_Feature"
   ],
   "window_display": false
  },
  "vscode": {
   "interpreter": {
    "hash": "a62940825390c4fb6d0fa98e018eb2e1591e483b4bca278484486fb09668db57"
   }
  }
 },
 "nbformat": 4,
 "nbformat_minor": 4
}
