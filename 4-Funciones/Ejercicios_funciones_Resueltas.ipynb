{
 "cells": [
  {
   "cell_type": "markdown",
   "metadata": {},
   "source": [
    "![imagen](./img/ejercicios.png)"
   ]
  },
  {
   "cell_type": "markdown",
   "metadata": {},
   "source": [
    "# Ejercicios funciones\n",
    "## Ejercicio 1\n",
    "Escribe una función que convierta números del 1 al 7 en nombres de los dias de la semana. La función constará de un único argumento numérico y una salida de tipo string"
   ]
  },
  {
   "cell_type": "code",
   "execution_count": 1,
   "metadata": {},
   "outputs": [
    {
     "data": {
      "text/plain": [
       "'Miercoles'"
      ]
     },
     "execution_count": 1,
     "metadata": {},
     "output_type": "execute_result"
    }
   ],
   "source": [
    "def conversor(num):\n",
    "    dias = [\"Lunes\",\"Martes\",\"Miercoles\",\"Jueves\",\"Viernes\",\"Sábado\",\"Domingo\"]\n",
    "    return (dias[num-1])\n",
    "\n",
    "conversor(3)"
   ]
  },
  {
   "cell_type": "code",
   "execution_count": 1,
   "metadata": {},
   "outputs": [
    {
     "data": {
      "text/plain": [
       "'lunes'"
      ]
     },
     "execution_count": 1,
     "metadata": {},
     "output_type": "execute_result"
    }
   ],
   "source": [
    "dias = {1: \"lunes\", 2:\"Martes\"}\n",
    "def diat2dia (numero_dia):\n",
    "    return dias.get(numero_dia, \"no hay dia\")\n",
    "\n",
    "diat2dia(1)"
   ]
  },
  {
   "cell_type": "code",
   "execution_count": null,
   "metadata": {},
   "outputs": [],
   "source": [
    "dias = {1: \"lunes\", 2:\"Martes\"}# esto sería lo que hace la funci´pon get de forma explicita\n",
    "def diat2dia (numero_dia):\n",
    "    if numero_dia in dias:\n",
    "        return dias[numero_dia]\n",
    "    else:\n",
    "        return \"no hay dia\""
   ]
  },
  {
   "cell_type": "markdown",
   "metadata": {},
   "source": [
    "## Ejercicio 2\n",
    "En el ejercicio 8 de flujos de control, creábamos una pirámide invertida de números desde el 5. Crea una función que replique el comportamiento de la pirámide, y utiliza un único parámetro de entrada de la función para determinar el número de filas de la pirámide."
   ]
  },
  {
   "cell_type": "code",
   "execution_count": 13,
   "metadata": {},
   "outputs": [
    {
     "name": "stdout",
     "output_type": "stream",
     "text": [
      "15 14 13 12 11 10 9 8 7 6 5 4 3 2 1 \n",
      "14 13 12 11 10 9 8 7 6 5 4 3 2 1 \n",
      "13 12 11 10 9 8 7 6 5 4 3 2 1 \n",
      "12 11 10 9 8 7 6 5 4 3 2 1 \n",
      "11 10 9 8 7 6 5 4 3 2 1 \n",
      "10 9 8 7 6 5 4 3 2 1 \n",
      "9 8 7 6 5 4 3 2 1 \n",
      "8 7 6 5 4 3 2 1 \n",
      "7 6 5 4 3 2 1 \n",
      "6 5 4 3 2 1 \n",
      "5 4 3 2 1 \n",
      "4 3 2 1 \n",
      "3 2 1 \n",
      "2 1 \n",
      "1 \n"
     ]
    }
   ],
   "source": [
    "def piramide(num1):\n",
    "    while num1>0:\n",
    "        for numero in range(num1,0,-1):\n",
    "            print(numero, end=\" \")\n",
    "        num1-=1\n",
    "        print()\n",
    "\n",
    "piramide(15)"
   ]
  },
  {
   "cell_type": "code",
   "execution_count": 3,
   "metadata": {},
   "outputs": [
    {
     "name": "stdout",
     "output_type": "stream",
     "text": [
      "5 4 3 2 1\n",
      "4 3 2 1\n",
      "3 2 1\n",
      "2 1\n",
      "1\n"
     ]
    }
   ],
   "source": [
    "limite = 5\n",
    "def piramide (limite): #version cambiando a lista y borrando\n",
    "    for numero in range(limite,0,-1):\n",
    "        print(str(list(range(numero,0,-1))).replace(\"[\",\"\").replace(\"]\",\"\").replace(\",\",\"\"))\n",
    "piramide(limite)"
   ]
  },
  {
   "cell_type": "markdown",
   "metadata": {},
   "source": [
    "## Ejercicio 3\n",
    "Escribe una función que compare dos números. La función tiene dos argumentos y hay tres salidas posibles: que sean iguales, que el primero sea  mayor que el segundo, o que el segundo sea mayor que el primero"
   ]
  },
  {
   "cell_type": "code",
   "execution_count": 16,
   "metadata": {},
   "outputs": [
    {
     "data": {
      "text/plain": [
       "'Son iguales'"
      ]
     },
     "execution_count": 16,
     "metadata": {},
     "output_type": "execute_result"
    }
   ],
   "source": [
    "def compara (num2,num3):\n",
    "    if num2 == num3:\n",
    "        return \"Son iguales\"\n",
    "    elif num2 > num3:\n",
    "        return \"El primero es mayor que el segundo\"\n",
    "    elif num2 < num3:\n",
    "        return \"El segundo es mayor que el primero\"\n",
    "    \n",
    "compara(2,2)"
   ]
  },
  {
   "attachments": {},
   "cell_type": "markdown",
   "metadata": {},
   "source": [
    "## Ejercicio 4\n",
    "Escribe una función que sea un contador de letras. En el primer argumento tienes que introducir un texto, y el segundo que sea una letra que contar. La función tiene que devolver un entero con el número de veces que aparece esa letra, tanto mayúscula, como minúscula"
   ]
  },
  {
   "cell_type": "code",
   "execution_count": 4,
   "metadata": {},
   "outputs": [
    {
     "data": {
      "text/plain": [
       "3"
      ]
     },
     "execution_count": 4,
     "metadata": {},
     "output_type": "execute_result"
    }
   ],
   "source": [
    "def cuenta_letras (texto4,letr):\n",
    "    cantidad = 0\n",
    "    for palabra in texto4:\n",
    "        for letra in palabra.lower():\n",
    "            if letra == letr:\n",
    "                cantidad+=1\n",
    "    return cantidad\n",
    "\n",
    "cuenta_letras(\"casa azul\",\"a\")\n"
   ]
  },
  {
   "cell_type": "code",
   "execution_count": 5,
   "metadata": {},
   "outputs": [
    {
     "data": {
      "text/plain": [
       "('a', 3)"
      ]
     },
     "execution_count": 5,
     "metadata": {},
     "output_type": "execute_result"
    }
   ],
   "source": [
    "def contador_letra(text,letra, case_sensitive = False):# versión profe\n",
    "    if not case_sensitive:\n",
    "        text = text.lower()\n",
    "        letra = letra.lower()\n",
    "    return letra,text.count(letra)\n",
    "\n",
    "contador_letra(\"casa azul\",\"a\")"
   ]
  },
  {
   "cell_type": "code",
   "execution_count": null,
   "metadata": {},
   "outputs": [],
   "source": [
    "def contador_letra1(text, letra):\n",
    "    for char in text:\n",
    "        if char == letra:\n",
    "            count +=1\n",
    "    return letra, count\n",
    "\n",
    "contador_letra1(\"casa azul\",\"a\")"
   ]
  },
  {
   "cell_type": "markdown",
   "metadata": {},
   "source": [
    "## Ejercicio 5\n",
    "Escribe una función que tenga un único argumento, un string. La salida de la función tiene que ser un diccionario con el conteo de todas las letras de ese string, siendo la clave la letra y el valor el conteo."
   ]
  },
  {
   "cell_type": "code",
   "execution_count": 29,
   "metadata": {},
   "outputs": [],
   "source": [
    "def cuenta_letras (texto5):\n",
    "    diccionario = dict()\n",
    "    for letra in texto5:\n",
    "        if letra not in diccionario:\n",
    "            diccionario[letra]=1\n",
    "        elif letra in diccionario:\n",
    "            diccionario[letra]+=1\n",
    "    return diccionario"
   ]
  },
  {
   "cell_type": "code",
   "execution_count": 30,
   "metadata": {},
   "outputs": [
    {
     "data": {
      "text/plain": [
       "{'c': 1,\n",
       " 'a': 4,\n",
       " 's': 5,\n",
       " ' ': 2,\n",
       " 'r': 1,\n",
       " 'o': 1,\n",
       " 'z': 1,\n",
       " 'u': 1,\n",
       " 'l': 1,\n",
       " 'e': 1}"
      ]
     },
     "execution_count": 30,
     "metadata": {},
     "output_type": "execute_result"
    }
   ],
   "source": [
    "cuenta_letras(\"casas rosas azules\")"
   ]
  },
  {
   "cell_type": "code",
   "execution_count": 7,
   "metadata": {},
   "outputs": [
    {
     "name": "stdout",
     "output_type": "stream",
     "text": [
      "h 1\n",
      "r 1\n",
      "p 1\n",
      "m 1\n",
      "a 2\n",
      "o 1\n",
      "i 1\n",
      "l 1\n",
      "  1\n"
     ]
    }
   ],
   "source": [
    "def contador_letras(text, case_sensitive = False):# versión profe con salida en lista\n",
    "    if not case_sensitive:\n",
    "        text = text.lower()\n",
    "        for char in set(text):# hace lo mismo que pasarlo a lista (nos devuelve lista con cada elemento aislado), pero además nos elimina las copias\n",
    "            print(char, text.count(char))\n",
    "\n",
    "contador_letras(\"hola prima\")"
   ]
  },
  {
   "cell_type": "code",
   "execution_count": 8,
   "metadata": {},
   "outputs": [
    {
     "data": {
      "text/plain": [
       "{'h': 1, 'r': 1, 'p': 1, 'm': 1, 'a': 2, 'o': 1, 'i': 1, 'l': 1, ' ': 1}"
      ]
     },
     "execution_count": 8,
     "metadata": {},
     "output_type": "execute_result"
    }
   ],
   "source": [
    "def contador_letras(text):# versión profe con salida en lista\n",
    "    output = {}\n",
    "    text = text.lower()\n",
    "    for char in set(text):# hace lo mismo que pasarlo a lista (nos devuelve lista con cada elemento aislado), pero además nos elimina las copias\n",
    "        #print(char, text.count(char))\n",
    "        output[char] = text.count(char)\n",
    "    return output\n",
    "contador_letras(\"hola prima\")\n"
   ]
  },
  {
   "cell_type": "code",
   "execution_count": null,
   "metadata": {},
   "outputs": [],
   "source": [
    "def contador_letras(text):\n",
    "    output = {}\n",
    "    text = text.lower()\n",
    "    for char in set(text):\n",
    "        # print(char, text.count(char))\n",
    "        output[char] = text.count(char)\n",
    "    return output\n",
    "        \n",
    "\n",
    "contador_letras(\"hola prima\")"
   ]
  },
  {
   "cell_type": "code",
   "execution_count": null,
   "metadata": {},
   "outputs": [],
   "source": []
  },
  {
   "cell_type": "markdown",
   "metadata": {},
   "source": [
    "## Ejercicio 6\n",
    "Escribir una función que añada o elimine elementos en una lista. La función necesita los siguientes argumentos:\n",
    "* lista: la lista donde se añadirán o eliminarán los elementos\n",
    "* comando: \"add\" o \"remove\"\n",
    "* elemento: Por defecto es None.\n",
    "\n",
    "Tendrá como salida la lista"
   ]
  },
  {
   "cell_type": "code",
   "execution_count": 13,
   "metadata": {},
   "outputs": [
    {
     "data": {
      "text/plain": [
       "[1, 2]"
      ]
     },
     "execution_count": 13,
     "metadata": {},
     "output_type": "execute_result"
    }
   ],
   "source": [
    "\n",
    "def addremove (lista1,comando,elemento = None):\n",
    "    \n",
    "    if comando == \"add\":\n",
    "        lista1.append(elemento)\n",
    "    elif comando == \"remove\":\n",
    "        lista1.remove(elemento)\n",
    "\n",
    "    \n",
    "    return lista1\n",
    "\n",
    "addremove ([1,2,7],\"remove\",7)\n",
    "\n",
    "\n"
   ]
  },
  {
   "cell_type": "code",
   "execution_count": null,
   "metadata": {},
   "outputs": [],
   "source": [
    "def remover(lista, comando, elemento=None):# version del profe\n",
    "    if comando == \"add\":\n",
    "        lista.append(elemento)\n",
    "    elif comando == \"remove\":\n",
    "        if elemento in lista:\n",
    "            lista.remove(elemento)\n",
    "        else:\n",
    "            print(\"missing element\")\n",
    "    else:\n",
    "        print(\"error command\")\n",
    "        return None\n",
    "    return lista"
   ]
  },
  {
   "cell_type": "markdown",
   "metadata": {},
   "source": [
    "## Ejercicio 7\n",
    "Crea una función que reciba un número arbitrario de palabras, y devuelva una frase completa, separando las palabras con espacios."
   ]
  },
  {
   "cell_type": "code",
   "execution_count": 31,
   "metadata": {},
   "outputs": [
    {
     "data": {
      "text/plain": [
       "' hoy estoy que lo peto'"
      ]
     },
     "execution_count": 31,
     "metadata": {},
     "output_type": "execute_result"
    }
   ],
   "source": [
    "def frase_suma (*args):\n",
    "    frase = \"\"\n",
    "    for palabra in args:\n",
    "        frase = frase + \" \" + palabra\n",
    "    return frase\n",
    "\n",
    "frase_suma(\"hoy\",\"estoy\",\"que\",\"lo\",\"peto\")"
   ]
  },
  {
   "cell_type": "markdown",
   "metadata": {},
   "source": [
    "## Ejercicio 8\n",
    "Escribe un programa que obtenga el enésimo número de la [serie de Fibonacci](https://es.wikipedia.org/wiki/Sucesi%C3%B3n_de_Fibonacci). Tienes que crear una función recursiva con un único argumento.\n",
    "\n",
    "```Python\n",
    "fibonacci(2) = 1\n",
    "fibonacci(4) = 3\n",
    "fibonacci(5) = 5\n",
    "fibonacci(8) = 21\n",
    "```"
   ]
  },
  {
   "attachments": {},
   "cell_type": "markdown",
   "metadata": {},
   "source": [
    "fibonacci(n) = fibonacci(n-1) + fibonacci(n-2)"
   ]
  },
  {
   "cell_type": "code",
   "execution_count": 50,
   "metadata": {},
   "outputs": [
    {
     "data": {
      "text/plain": [
       "5"
      ]
     },
     "execution_count": 50,
     "metadata": {},
     "output_type": "execute_result"
    }
   ],
   "source": [
    "def fibonacci (num8):\n",
    "    if (num8 == 0) or (num8 ==1):\n",
    "        total = 1\n",
    "    else:\n",
    "        total = fibonacci(num8-1) + fibonacci(num8-2)\n",
    "    return total\n",
    "\n",
    "fibonacci (4)"
   ]
  },
  {
   "attachments": {},
   "cell_type": "markdown",
   "metadata": {},
   "source": [
    "## Ejercicio 9\n",
    "Define en una única celda las siguientes funciones:\n",
    "* Función que calcule el área de un cuadrado\n",
    "* Función que calcule el área de un triángulo\n",
    "* Función que calcule el área de un círculo\n",
    "\n",
    "En otra celda, calcular el area de:\n",
    "* Dos círculos de radio 10 + un triángulo de base 3 y altura 7\n",
    "* Un cuadrado de lado = 10 + 3 círculos (uno de radio = 4 y los otros dos de radio = 6) + 5 triángulos de base = 2 + altura = 4"
   ]
  },
  {
   "cell_type": "code",
   "execution_count": 10,
   "metadata": {},
   "outputs": [],
   "source": [
    "import math\n",
    "def area_cuad (lado1, lado2):\n",
    "    return lado1*lado2\n",
    "\n",
    "def area_tri (lado3,lado4):\n",
    "    return (lado3*lado4)/2\n",
    "\n",
    "def area_cir (radio):\n",
    "    return math.pi*radio**2"
   ]
  },
  {
   "cell_type": "markdown",
   "metadata": {},
   "source": [
    "# Importar funciones"
   ]
  },
  {
   "cell_type": "code",
   "execution_count": 11,
   "metadata": {},
   "outputs": [
    {
     "name": "stdout",
     "output_type": "stream",
     "text": [
      "638.8185307179587\n",
      "396.46015351590177\n"
     ]
    }
   ],
   "source": [
    "circulos_y_triangulo = (area_cir(10))*2 + area_tri(3,7)\n",
    "print(circulos_y_triangulo)\n",
    "todos_juntos = area_cuad(10,10)+ area_cir(4)+ (area_cir(6)*2)+ (area_tri(2,4))*5\n",
    "print (todos_juntos)"
   ]
  },
  {
   "cell_type": "code",
   "execution_count": 12,
   "metadata": {},
   "outputs": [
    {
     "data": {
      "text/plain": [
       "0.5"
      ]
     },
     "execution_count": 12,
     "metadata": {},
     "output_type": "execute_result"
    }
   ],
   "source": [
    "def calculo_areas (*args, shape):\n",
    "    if shape ==\"circulo\":\n",
    "        return area_cir(args[0])\n",
    "    elif shape ==\"cuadrado\":\n",
    "        return area_cuad(args[0],args[1])\n",
    "    elif shape ==\"triangulo\":\n",
    "        return area_tri(args[0],args[1])\n",
    "    else:\n",
    "        return \"shape undefined\"\n",
    "    \n",
    "calculo_areas(1,1,shape = \"triangulo\")"
   ]
  },
  {
   "cell_type": "code",
   "execution_count": null,
   "metadata": {},
   "outputs": [],
   "source": [
    "#deberiamos haber generado una libreria con las funciones. Para llamarlas hacemos:\n",
    "\n",
    "#from funciones import* -> con esta versión tenemos acceso a todsa las funciones solo por su nombre, pero no sabríamos de que librería viene\n",
    "#from funciones import area_circulo -> con esta versión solo llamamos a la función definida\n",
    "#import funciones -> con esta versión deberemos indicar la libreria y luego la función que queremos \"funciones.area_circulo\""
   ]
  }
 ],
 "metadata": {
  "kernelspec": {
   "display_name": "Python 3.7.4 64-bit",
   "language": "python",
   "name": "python3"
  },
  "language_info": {
   "codemirror_mode": {
    "name": "ipython",
    "version": 3
   },
   "file_extension": ".py",
   "mimetype": "text/x-python",
   "name": "python",
   "nbconvert_exporter": "python",
   "pygments_lexer": "ipython3",
   "version": "3.12.1"
  },
  "vscode": {
   "interpreter": {
    "hash": "90139cb9a825bf3d63f6f6704e828dbd1ff7edbd4d0c6e906a71235d6efc74af"
   }
  }
 },
 "nbformat": 4,
 "nbformat_minor": 4
}
