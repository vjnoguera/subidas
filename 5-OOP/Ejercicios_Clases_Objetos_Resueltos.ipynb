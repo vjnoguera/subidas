{
 "cells": [
  {
   "cell_type": "markdown",
   "metadata": {},
   "source": [
    "![imagen](./img/ejercicios.png)\n",
    "\n",
    "# Ejercicios Clases y Objetos"
   ]
  },
  {
   "attachments": {},
   "cell_type": "markdown",
   "metadata": {},
   "source": [
    "## Ejercicio 1\n",
    "Somos una empresa que tiene varias tiendas de electrodomésticos. Necesitamos un programa para manejar las tiendas, ver las ventas que han tenido, cuántos empleados hay, etc... Para ello vamos a modelizar la tienda en una clase, que tendrá las siguientes características:\n",
    "* Nombre clase: \"Tienda\"\n",
    "* Atributos comunes:\n",
    "    * Tipo: \"Electrodomésticos\"\n",
    "    * Abierta: True\n",
    "* Atributos propios de cada tienda:\n",
    "    * Nombre - String\n",
    "    * Dirección - String\n",
    "    * Número de empleados - int\n",
    "    * Ventas últimos 3 meses - Lista de 3 numeros\n",
    "* Método para calcular las ventas de todos los meses, que devuelva un número con todas las ventas.\n",
    "* Método que calcula la media de ventas de los últimos meses, por empleado\n",
    "* Método que devuelve en un string el nombre de la tienda, junto con su dirección.\n",
    "* Método que obtiene las ventas del último mes.\n",
    "* Método para dar una proyección de las ventas en caso de haber invertido X dinero en marketing en esa tienda. Siendo X el parámetro de entrada. Si X es menor de 1000, las ventas de los ultimos 3 meses hubiesen sido de (1.2 x ventas), si es mayor o igual de 1000, las ventas hubiesen sido de (1.5 x venta). El método reescribe el atributo de ventas en los últimos 3 meses, y además devuelve las ventas con el aumento.\n",
    "\n",
    "Se pide:\n",
    "1. Implementar la clase \"Tienda\"\n",
    "2. Crear tres tiendas con datos inventados\n",
    "3. Comprueba en al menos una de ellas, todo lo implementado en la clase tienda (sus atributos, media de ventas, ventas/empleado...)\n",
    "3. Calcular las ventas del último mes de todas las tiendas. Para ello usa el bucle `for`\n",
    "4. Imprime por pantalla los nombres de las tiendas cuya dirección lleve el string \"Avenida\"\n",
    "5. Seguro que ya has hecho este apartado... Documenta la clase :)"
   ]
  },
  {
   "cell_type": "code",
   "execution_count": 135,
   "metadata": {},
   "outputs": [],
   "source": [
    "lista_ventas = []\n",
    "lista_avenidas = []\n",
    "class Tienda:\n",
    "    \"\"\"clase que representa una tienda\n",
    "    \n",
    "    Atributos: \n",
    "\n",
    "    tipo (str): tipo de tienda, por defecto, \"electrodomésticos\"\n",
    "    abierta (bool): estado de la tienda, por defecto True\n",
    "\n",
    "    Métodos:\n",
    "\n",
    "    - __init__: Inicializa una instancia de Tienda con nombre, dirección, número de empleados y ventas.\n",
    "    - suma_ventas: Calcula la suma total de las ventas.\n",
    "    - media_ventas: Calcula la media de ventas por empleado.\n",
    "    - nombre_direccion: Devuelve una cadena que representa el nombre y la dirección de la tienda.\n",
    "    - ventas_ultimo_mes: Devuelve las ventas del último mes.\n",
    "    - proyeccion: Calcula la proyección de ventas en función de una inversión dada.\n",
    "    \n",
    "    \"\"\"\n",
    "    tipo = \"electrodomesticos\"\n",
    "    abierta = True\n",
    "\n",
    "    def __init__(self, nombre, direccion, numero_empleados, ventas):\n",
    "        \"\"\"\n",
    "        Inicializa una instancia de la clase Tienda.\n",
    "\n",
    "        Parámetros:\n",
    "        - nombre (str): Nombre de la tienda.\n",
    "        - direccion (str): Dirección de la tienda.\n",
    "        - numero_empleados (int): Número de empleados de la tienda.\n",
    "        - ventas (list): Lista de ventas realizadas, donde cada elemento representa las ventas de un mes.\n",
    "        \"\"\"\n",
    "        self.nombre = nombre\n",
    "        self.direccion = direccion\n",
    "        self.numero_empleados = numero_empleados\n",
    "        self.ventas = ventas\n",
    "        lista_ventas.append(self.ventas[2])\n",
    "        if self.direccion[0:7] == \"Avenida\":\n",
    "            lista_avenidas.append(self.nombre)\n",
    "\n",
    "    \n",
    "    def suma_ventas (self):\n",
    "        \"\"\"\n",
    "        Calcula la suma total de las ventas.\n",
    "\n",
    "        Retorna:\n",
    "        - float: Suma total de las ventas.\n",
    "        \"\"\"\n",
    "        return sum(self.ventas)\n",
    "    \n",
    "    def media_ventas (self):\n",
    "        \"\"\"\n",
    "        Calcula la media de ventas por empleado.\n",
    "\n",
    "        Retorna:\n",
    "        - float: Media de ventas por empleado.\n",
    "        \"\"\"\n",
    "        return round((sum(self.ventas)/self.numero_empleados),3)\n",
    "    \n",
    "    #def ventas_media(self): con esto utilizamos el método de suma ventas que ya nos hace el calculo de la suma\n",
    "        #return self.suma_ventas()/len(self.ventas)\n",
    "    \n",
    "    def nombre_direccion (self):\n",
    "        \"\"\"\n",
    "        Devuelve una cadena que representa el nombre y la dirección de la tienda.\n",
    "\n",
    "        Retorna:\n",
    "        - str: Nombre y dirección de la tienda.\n",
    "        \"\"\"\n",
    "        return (self.nombre +\", \"+ self.direccion)\n",
    "    \n",
    "    def ventas_ultimo_mes (self):\n",
    "        \"\"\"\n",
    "        Devuelve las ventas del último mes.\n",
    "\n",
    "        Retorna:\n",
    "        - float: Ventas del último mes.\n",
    "        \"\"\"\n",
    "        return (self.ventas[2])\n",
    "\n",
    "    def proyeccion(self, inversion):\n",
    "        \"\"\"\n",
    "        Calcula la proyección de ventas en función de una inversión dada.\n",
    "\n",
    "        Parámetros:\n",
    "        - inversion (float): Inversión realizada en la tienda.\n",
    "\n",
    "        Retorna:\n",
    "        - list: Lista actualizada de ventas después de aplicar la proyección.\n",
    "        \"\"\"\n",
    "        for indice, elemento in enumerate(self.ventas):\n",
    "            if inversion < 1000:\n",
    "                self.ventas[indice]=(1.2*(elemento))\n",
    "            elif inversion >= 1000:\n",
    "                self.ventas[indice]=(1.5*(elemento))\n",
    "        return self.ventas\n",
    "    \n",
    "\n",
    "    def proyeccion2 (self, X):\n",
    "        if X<1000:\n",
    "            incremento = 1.2\n",
    "        else:\n",
    "            incremento = 1.5\n",
    "\n",
    "        nuevas_ventas = []\n",
    "        for venta in self.ventas:\n",
    "            nuevas_ventas.append(venta*incremento)\n",
    "        self.ventas = nuveas_ventas\n",
    "        return self.ventas\n",
    "        \n",
    "   \n",
    "\n",
    "        \n",
    "\n",
    "\n"
   ]
  },
  {
   "cell_type": "code",
   "execution_count": 136,
   "metadata": {},
   "outputs": [],
   "source": [
    "\n",
    "local_1 = Tienda(\"Cosas\",\"Avenida Gran via, 17\",6,[500,500,600])\n",
    "local_2 = Tienda(\"Grandes_cosas\", \"C/Serpis 60\", 4, [1000, 1200, 1300])\n",
    "local_3 = Tienda(\"Grandes_cosas II\", \"Avenida Reina Sofia, 45\", 7, [1800, 1700, 1000])\n",
    "\n"
   ]
  },
  {
   "cell_type": "code",
   "execution_count": 137,
   "metadata": {},
   "outputs": [
    {
     "data": {
      "text/plain": [
       "['Cosas', 'Grandes_cosas II']"
      ]
     },
     "execution_count": 137,
     "metadata": {},
     "output_type": "execute_result"
    }
   ],
   "source": [
    "lista_avenidas"
   ]
  },
  {
   "cell_type": "code",
   "execution_count": 134,
   "metadata": {},
   "outputs": [
    {
     "data": {
      "text/plain": [
       "'A'"
      ]
     },
     "execution_count": 134,
     "metadata": {},
     "output_type": "execute_result"
    }
   ],
   "source": [
    "local_1.direccion[0]"
   ]
  },
  {
   "cell_type": "code",
   "execution_count": 120,
   "metadata": {},
   "outputs": [
    {
     "data": {
      "text/plain": [
       "[500, 500, 600]"
      ]
     },
     "execution_count": 120,
     "metadata": {},
     "output_type": "execute_result"
    }
   ],
   "source": [
    "local_1.ventas"
   ]
  },
  {
   "cell_type": "code",
   "execution_count": 121,
   "metadata": {},
   "outputs": [
    {
     "data": {
      "text/plain": [
       "[1000, 1200, 1300]"
      ]
     },
     "execution_count": 121,
     "metadata": {},
     "output_type": "execute_result"
    }
   ],
   "source": [
    "local_2.ventas"
   ]
  },
  {
   "cell_type": "code",
   "execution_count": 122,
   "metadata": {},
   "outputs": [
    {
     "data": {
      "text/plain": [
       "[1800, 1700, 1000]"
      ]
     },
     "execution_count": 122,
     "metadata": {},
     "output_type": "execute_result"
    }
   ],
   "source": [
    "\n",
    "local_3.ventas"
   ]
  },
  {
   "cell_type": "code",
   "execution_count": 123,
   "metadata": {},
   "outputs": [
    {
     "data": {
      "text/plain": [
       "1600"
      ]
     },
     "execution_count": 123,
     "metadata": {},
     "output_type": "execute_result"
    }
   ],
   "source": [
    "local_1.suma_ventas()"
   ]
  },
  {
   "cell_type": "code",
   "execution_count": 70,
   "metadata": {},
   "outputs": [
    {
     "data": {
      "text/plain": [
       "3500"
      ]
     },
     "execution_count": 70,
     "metadata": {},
     "output_type": "execute_result"
    }
   ],
   "source": [
    "local_2.suma_ventas()"
   ]
  },
  {
   "cell_type": "code",
   "execution_count": 71,
   "metadata": {},
   "outputs": [
    {
     "data": {
      "text/plain": [
       "4500"
      ]
     },
     "execution_count": 71,
     "metadata": {},
     "output_type": "execute_result"
    }
   ],
   "source": [
    "local_3.suma_ventas()"
   ]
  },
  {
   "cell_type": "code",
   "execution_count": 72,
   "metadata": {},
   "outputs": [
    {
     "data": {
      "text/plain": [
       "[600, 1300, 1000]"
      ]
     },
     "execution_count": 72,
     "metadata": {},
     "output_type": "execute_result"
    }
   ],
   "source": [
    "lista_ventas"
   ]
  },
  {
   "cell_type": "code",
   "execution_count": 73,
   "metadata": {},
   "outputs": [
    {
     "data": {
      "text/plain": [
       "2900"
      ]
     },
     "execution_count": 73,
     "metadata": {},
     "output_type": "execute_result"
    }
   ],
   "source": [
    "total = 0\n",
    "for elemento in lista_ventas:\n",
    "    total +=elemento\n",
    "\n",
    "total\n"
   ]
  },
  {
   "cell_type": "code",
   "execution_count": 74,
   "metadata": {},
   "outputs": [
    {
     "data": {
      "text/plain": [
       "[750.0, 750.0, 900.0]"
      ]
     },
     "execution_count": 74,
     "metadata": {},
     "output_type": "execute_result"
    }
   ],
   "source": [
    "local_1.proyeccion(2000)"
   ]
  },
  {
   "cell_type": "code",
   "execution_count": 75,
   "metadata": {},
   "outputs": [
    {
     "data": {
      "text/plain": [
       "True"
      ]
     },
     "execution_count": 75,
     "metadata": {},
     "output_type": "execute_result"
    }
   ],
   "source": [
    "local_1.abierta"
   ]
  },
  {
   "cell_type": "code",
   "execution_count": 76,
   "metadata": {},
   "outputs": [
    {
     "data": {
      "text/plain": [
       "'Avenida Gran via, 17'"
      ]
     },
     "execution_count": 76,
     "metadata": {},
     "output_type": "execute_result"
    }
   ],
   "source": [
    "local_1.direccion"
   ]
  },
  {
   "cell_type": "code",
   "execution_count": 77,
   "metadata": {},
   "outputs": [
    {
     "data": {
      "text/plain": [
       "'Grandes_cosas'"
      ]
     },
     "execution_count": 77,
     "metadata": {},
     "output_type": "execute_result"
    }
   ],
   "source": [
    "local_2.nombre"
   ]
  },
  {
   "cell_type": "code",
   "execution_count": 78,
   "metadata": {},
   "outputs": [
    {
     "data": {
      "text/plain": [
       "'Cosas'"
      ]
     },
     "execution_count": 78,
     "metadata": {},
     "output_type": "execute_result"
    }
   ],
   "source": [
    "local_1.nombre\n"
   ]
  },
  {
   "cell_type": "code",
   "execution_count": 79,
   "metadata": {},
   "outputs": [
    {
     "data": {
      "text/plain": [
       "[750.0, 750.0, 900.0]"
      ]
     },
     "execution_count": 79,
     "metadata": {},
     "output_type": "execute_result"
    }
   ],
   "source": [
    "local_1.ventas"
   ]
  },
  {
   "cell_type": "code",
   "execution_count": 80,
   "metadata": {},
   "outputs": [
    {
     "data": {
      "text/plain": [
       "2400.0"
      ]
     },
     "execution_count": 80,
     "metadata": {},
     "output_type": "execute_result"
    }
   ],
   "source": [
    "local_1.suma_ventas()"
   ]
  },
  {
   "cell_type": "code",
   "execution_count": 81,
   "metadata": {},
   "outputs": [
    {
     "data": {
      "text/plain": [
       "'electrodomesticos'"
      ]
     },
     "execution_count": 81,
     "metadata": {},
     "output_type": "execute_result"
    }
   ],
   "source": [
    "local_1.tipo"
   ]
  },
  {
   "cell_type": "code",
   "execution_count": 82,
   "metadata": {},
   "outputs": [
    {
     "data": {
      "text/plain": [
       "400.0"
      ]
     },
     "execution_count": 82,
     "metadata": {},
     "output_type": "execute_result"
    }
   ],
   "source": [
    "local_1.media_ventas()\n"
   ]
  },
  {
   "cell_type": "code",
   "execution_count": 83,
   "metadata": {},
   "outputs": [
    {
     "data": {
      "text/plain": [
       "'Cosas, Avenida Gran via, 17'"
      ]
     },
     "execution_count": 83,
     "metadata": {},
     "output_type": "execute_result"
    }
   ],
   "source": [
    "local_1.nombre_direccion()"
   ]
  },
  {
   "cell_type": "code",
   "execution_count": 3,
   "metadata": {},
   "outputs": [
    {
     "data": {
      "text/plain": [
       "'Se pide:\\n1. Implementar la clase \"Tienda\"\\n2. Crear tres tiendas con datos inventados\\n3. Comprueba en al menos una de ellas, todo lo implementado en la clase tienda (sus atributos, media de ventas, ventas/empleado...)\\n3. Calcular las ventas del último mes de todas las tiendas. Para ello usa el bucle `for`\\n4. Imprime por pantalla los nombres de las tiendas cuya dirección lleve el string \"Avenida\"\\n5. Seguro que ya has hecho este apartado... Documenta la clase\\n'"
      ]
     },
     "execution_count": 3,
     "metadata": {},
     "output_type": "execute_result"
    }
   ],
   "source": [
    "\"\"\"Se pide:\n",
    "1. Implementar la clase \"Tienda\"\n",
    "2. Crear tres tiendas con datos inventados\n",
    "3. Comprueba en al menos una de ellas, todo lo implementado en la clase tienda (sus atributos, media de ventas, ventas/empleado...)\n",
    "3. Calcular las ventas del último mes de todas las tiendas. Para ello usa el bucle `for`\n",
    "4. Imprime por pantalla los nombres de las tiendas cuya dirección lleve el string \"Avenida\"\n",
    "5. Seguro que ya has hecho este apartado... Documenta la clase\n",
    "\"\"\""
   ]
  },
  {
   "cell_type": "code",
   "execution_count": null,
   "metadata": {},
   "outputs": [],
   "source": [
    "#para el primer apartado podemos utiliar tienda1.__dict__ que nos devuelve todos los atributos de la clase\n",
    "#apartado3\n",
    "venta_total= 0\n",
    "for tienda in [tienda1, tienda2, tienda3]:\n",
    "    venta_total+= tienda.ventas[-1]\n",
    "venta_total\n",
    "#apartado4\n",
    "for tienda in [tienda1, tienda2, tienda3]:\n",
    "    if \"Avenida\" in tienda.dirección:\n",
    "        print(tienda.nombre)"
   ]
  },
  {
   "cell_type": "markdown",
   "metadata": {},
   "source": [
    "## Ejercicio 2\n",
    "En este ejercicio vamos a implementar una clase *Perro* en Python. La clase tiene las siguientes características:\n",
    "* Cosas que sabemos seguro que tiene un perro\n",
    "    * Tiene 4 patas\n",
    "    * 2 orejas\n",
    "    * 2 ojos\n",
    "    * Una velocidad de 0. Por defecto, el perro está parado\n",
    "* Cuando se inicialice:\n",
    "    * El perro será de una determinada raza\n",
    "    * Por defecto tendrá pelo \"Marrón\", a no ser que se diga lo contrario.\n",
    "    * Por defecto no tendrá dueño, a no ser que se diga lo contrario.\n",
    "    \n",
    "* Dispondrá también de un método llamado andar, que tiene un argumento de entrada (aumento_velocidad). Este valor se le sumará a la velocidad que ya llevaba el perro.\n",
    "* Necesita otro método (parar), donde pondremos la velocidad a 0.\n",
    "* Otro método llamado \"ladrar\", que tendrá un argumento de entrada, y la salida será el siguiente string: \"GUAU!\" + el argumento de entrada.\n",
    "\n",
    "\n",
    "Se pide:\n",
    "* Implementa la clase *Perro*\n",
    "* Crea un objeto de tipo *Perro*, sin dueño\n",
    "* Comprueba que están bien todos sus atributos\n",
    "* Prueba que ande, y comprueba su velocidad\n",
    "* Páralo\n",
    "* Documenta la clase *Perro*"
   ]
  },
  {
   "cell_type": "code",
   "execution_count": 1,
   "metadata": {},
   "outputs": [],
   "source": [
    "class Perro:\n",
    "    \"\"\"\n",
    "    clase que identifica un perro\n",
    "    \n",
    "    Atributos: \n",
    "    patas (int): numero de patas\n",
    "    orejas (int): numero de orejas\n",
    "    ojos (int): numero de ojos\n",
    "    velocidad (int): velocidad de perro\n",
    "\n",
    "    Metodos:\n",
    "    Init: inicializa los valores variables de la clase perro\n",
    "        -Raza (str)\n",
    "        -Pelo (str) inicializado a marrón por defecto\n",
    "        -duenyo (bool) inicializado en False por defecto\n",
    "    correr: aumenta la velocidad de perro\n",
    "    parar: reduce la velocidad a 0\n",
    "    ladrar: devuelve un ladrido y la orden dada al perro\n",
    "\n",
    "    \n",
    "    \"\"\"\n",
    "\n",
    "    patas = 4\n",
    "    orejas = 2\n",
    "    ojos = 2\n",
    "    vel = 0\n",
    "\n",
    "    def __init__(self,raza, pelo = \"marrón\", duenyo = False):\n",
    "        \"\"\"inicializa los parámetros variables\n",
    "                -Raza (str)\n",
    "                -Pelo (str) inicializado a marrón por defecto\n",
    "                -duenyo (bool) inicializado en False por defecto\n",
    "         \"\"\"\n",
    "        self.raza = raza\n",
    "        self.pelo = pelo\n",
    "        self.duenyo = duenyo\n",
    "    \n",
    "    def correr(self, aumento_velocidad):\n",
    "        \"\"\"aumenta la velocidad de perro\n",
    "        Parámetros: Valor aumento_velocidad(int)\n",
    "        Retorna: valor de velocidad\"\"\"\n",
    "        self.vel += aumento_velocidad\n",
    "        return self.vel\n",
    "    \n",
    "    def parar(self):\n",
    "        \"\"\"reduce la velocidad de perro a 0\n",
    "        Retorna: valor de velocidad\"\"\"\n",
    "        self.vel = 0\n",
    "        return self.vel\n",
    "    \n",
    "    def ladrar(self, orden):\n",
    "        \"\"\"devuelve un ladrido junto con la orden dada\n",
    "        Parámetros: orden dada\n",
    "        Retorna: ladrido y orden\"\"\"\n",
    "        return (\"GUAU!\" + \" \" + orden)\n",
    "\n",
    "\n",
    "\n",
    "    "
   ]
  },
  {
   "cell_type": "code",
   "execution_count": 2,
   "metadata": {},
   "outputs": [],
   "source": [
    "irati = Perro(\"golden\",\"amarillo\")\n",
    "\n"
   ]
  },
  {
   "cell_type": "code",
   "execution_count": 3,
   "metadata": {},
   "outputs": [
    {
     "data": {
      "text/plain": [
       "'golden'"
      ]
     },
     "execution_count": 3,
     "metadata": {},
     "output_type": "execute_result"
    }
   ],
   "source": [
    "irati.raza"
   ]
  },
  {
   "cell_type": "code",
   "execution_count": 4,
   "metadata": {},
   "outputs": [
    {
     "data": {
      "text/plain": [
       "'amarillo'"
      ]
     },
     "execution_count": 4,
     "metadata": {},
     "output_type": "execute_result"
    }
   ],
   "source": [
    "irati.pelo"
   ]
  },
  {
   "cell_type": "code",
   "execution_count": 5,
   "metadata": {},
   "outputs": [
    {
     "data": {
      "text/plain": [
       "False"
      ]
     },
     "execution_count": 5,
     "metadata": {},
     "output_type": "execute_result"
    }
   ],
   "source": [
    "irati.duenyo"
   ]
  },
  {
   "cell_type": "code",
   "execution_count": 6,
   "metadata": {},
   "outputs": [
    {
     "data": {
      "text/plain": [
       "2"
      ]
     },
     "execution_count": 6,
     "metadata": {},
     "output_type": "execute_result"
    }
   ],
   "source": [
    "irati.orejas"
   ]
  },
  {
   "cell_type": "code",
   "execution_count": 7,
   "metadata": {},
   "outputs": [
    {
     "data": {
      "text/plain": [
       "4"
      ]
     },
     "execution_count": 7,
     "metadata": {},
     "output_type": "execute_result"
    }
   ],
   "source": [
    "irati.patas\n"
   ]
  },
  {
   "cell_type": "code",
   "execution_count": 8,
   "metadata": {},
   "outputs": [
    {
     "data": {
      "text/plain": [
       "0"
      ]
     },
     "execution_count": 8,
     "metadata": {},
     "output_type": "execute_result"
    }
   ],
   "source": [
    "irati.vel"
   ]
  },
  {
   "cell_type": "code",
   "execution_count": 9,
   "metadata": {},
   "outputs": [
    {
     "data": {
      "text/plain": [
       "5"
      ]
     },
     "execution_count": 9,
     "metadata": {},
     "output_type": "execute_result"
    }
   ],
   "source": [
    "\n",
    "irati.correr(5)"
   ]
  },
  {
   "cell_type": "code",
   "execution_count": 10,
   "metadata": {},
   "outputs": [
    {
     "data": {
      "text/plain": [
       "5"
      ]
     },
     "execution_count": 10,
     "metadata": {},
     "output_type": "execute_result"
    }
   ],
   "source": [
    "irati.vel\n"
   ]
  },
  {
   "cell_type": "code",
   "execution_count": 11,
   "metadata": {},
   "outputs": [
    {
     "data": {
      "text/plain": [
       "0"
      ]
     },
     "execution_count": 11,
     "metadata": {},
     "output_type": "execute_result"
    }
   ],
   "source": [
    "irati.parar()"
   ]
  },
  {
   "cell_type": "code",
   "execution_count": 12,
   "metadata": {},
   "outputs": [
    {
     "data": {
      "text/plain": [
       "'GUAU! patita'"
      ]
     },
     "execution_count": 12,
     "metadata": {},
     "output_type": "execute_result"
    }
   ],
   "source": [
    "irati.ladrar(\"patita\")"
   ]
  },
  {
   "cell_type": "markdown",
   "metadata": {},
   "source": [
    "Nombre: Mascota\n",
    "\n",
    "Atributos:\n",
    "nombre: Nombre de la mascota (str)\n",
    "especie: Especie de la mascota (str) \"Perro\", \"Gato\", \"Conejo\", etc.\n",
    "edad: Edad de la mascota en años (int)\n",
    "hambre: Nivel de hambre de la mascota (int) 0-100 default 100\n",
    "energia: Nivel de energía de la mascota (int) 0-100 default 100\n",
    "animo: Nivel de animo de la mascota (int) 0-100 default 0\n",
    "\n",
    "\n",
    "Métodos:\n",
    "alimentar(cantidad): Reduce el hambre de la mascota en función de la cantidad de comida (hambre -= cantidad)\n",
    "jugar(duracion): Reduce la energía de la mascota y aumenta su animo en función de la duración del juego (energia -= duracion, animo += duracion), si la energia llega a cero, llamar al metodo dormir.\n",
    "dormir(duracion): Aumenta la energía de la mascota en función de la duración del sueño (energia += duracion)\n",
    "estado(): Muestra información sobre el estado actual de la mascota (nombre, especie, edad, hambre, energía, animo)"
   ]
  },
  {
   "cell_type": "code",
   "execution_count": 84,
   "metadata": {},
   "outputs": [],
   "source": [
    "class Mascota:\n",
    "\n",
    "    def __init__(self,nombre, especie, edad, hambre=100, energia=100, animo= 100):\n",
    "        self.nombre = nombre\n",
    "        self.especie = especie\n",
    "        self.edad = edad\n",
    "        self.hambre = hambre\n",
    "        self.energia = energia\n",
    "        self.animo = animo\n",
    "\n",
    "    def alimentar(self, cantidad):\n",
    "        self.hambre -= cantidad\n",
    "        if self.hambre < 0:\n",
    "            self.hambre= 0\n",
    "        return (f\"{self.nombre} tiene {self.hambre} de hambre\")\n",
    "\n",
    "    def jugar(self, duracion):\n",
    "        self.energia-=duracion\n",
    "        self.animo+=duracion\n",
    "        print(f\"{self.nombre} tiene {self.energia} de energia, y {self.animo} de animo\")\n",
    "        if self.energia <=0:\n",
    "            self.dormir(100)\n",
    "\n",
    "\n",
    "    \n",
    "    def dormir (self,descanso):\n",
    "        self.energia+=descanso\n",
    "        return (f\"{self.nombre} ha recuperado {self.energia} de energia\")\n",
    "\n",
    "    def estado (self):\n",
    "        print (self.__dict__)\n",
    "\n",
    "\n"
   ]
  },
  {
   "cell_type": "code",
   "execution_count": 85,
   "metadata": {},
   "outputs": [],
   "source": [
    "fifi = Mascota(\"firulais\",\"chucho\",5)\n"
   ]
  },
  {
   "cell_type": "code",
   "execution_count": 86,
   "metadata": {},
   "outputs": [
    {
     "data": {
      "text/plain": [
       "{'nombre': 'firulais',\n",
       " 'especie': 'chucho',\n",
       " 'edad': 5,\n",
       " 'hambre': 100,\n",
       " 'energia': 100,\n",
       " 'animo': 100}"
      ]
     },
     "execution_count": 86,
     "metadata": {},
     "output_type": "execute_result"
    }
   ],
   "source": [
    "fifi.__dict__"
   ]
  },
  {
   "cell_type": "code",
   "execution_count": 87,
   "metadata": {},
   "outputs": [
    {
     "data": {
      "text/plain": [
       "'firulais tiene 50 de hambre'"
      ]
     },
     "execution_count": 87,
     "metadata": {},
     "output_type": "execute_result"
    }
   ],
   "source": [
    "fifi.alimentar(50)"
   ]
  },
  {
   "cell_type": "code",
   "execution_count": 88,
   "metadata": {},
   "outputs": [
    {
     "name": "stdout",
     "output_type": "stream",
     "text": [
      "{'nombre': 'firulais', 'especie': 'chucho', 'edad': 5, 'hambre': 50, 'energia': 100, 'animo': 100}\n"
     ]
    }
   ],
   "source": [
    "fifi.estado()"
   ]
  },
  {
   "cell_type": "code",
   "execution_count": 76,
   "metadata": {},
   "outputs": [
    {
     "name": "stdout",
     "output_type": "stream",
     "text": [
      "firulais tiene 0 de energia, y 200 de animo\n"
     ]
    }
   ],
   "source": [
    "fifi.jugar(100)"
   ]
  },
  {
   "cell_type": "code",
   "execution_count": 77,
   "metadata": {},
   "outputs": [
    {
     "data": {
      "text/plain": [
       "'firulais ha recuperado 200 de energia'"
      ]
     },
     "execution_count": 77,
     "metadata": {},
     "output_type": "execute_result"
    }
   ],
   "source": [
    "fifi.dormir(100)"
   ]
  },
  {
   "cell_type": "code",
   "execution_count": 78,
   "metadata": {},
   "outputs": [
    {
     "data": {
      "text/plain": [
       "{'nombre': 'firulais',\n",
       " 'especie': 'chucho',\n",
       " 'edad': '5',\n",
       " 'hambre': 50,\n",
       " 'energia': 200,\n",
       " 'animo': 200}"
      ]
     },
     "execution_count": 78,
     "metadata": {},
     "output_type": "execute_result"
    }
   ],
   "source": [
    "fifi.estado()"
   ]
  },
  {
   "cell_type": "code",
   "execution_count": 89,
   "metadata": {},
   "outputs": [
    {
     "data": {
      "text/plain": [
       "'crea una variable que sera un ser con un diccionario el cual tiene una clave \"cosas\" y un valor que tiene una dupla y dentro de esa tupla hay una lista con 3 diccionarios.\\ncada diccionario tiene una clave \"clave\" y cada valor una lista con un numero.'"
      ]
     },
     "execution_count": 89,
     "metadata": {},
     "output_type": "execute_result"
    }
   ],
   "source": [
    "\"\"\"crea una variable que sera una lista con un diccionario el cual tiene una clave \"cosas\" y un valor que tiene una tupla y dentro de esa tupla hay una lista con 3 diccionarios.\n",
    "cada diccionario tiene una clave \"clave\" y cada valor una lista con un numero.\"\"\""
   ]
  },
  {
   "cell_type": "code",
   "execution_count": 136,
   "metadata": {},
   "outputs": [],
   "source": [
    "caos = [{\"cosas\":([{\"clave\":[1]},{\"clave\":[2]},{\"clave\":[3]}],)}]"
   ]
  },
  {
   "cell_type": "code",
   "execution_count": 115,
   "metadata": {},
   "outputs": [
    {
     "data": {
      "text/plain": [
       "list"
      ]
     },
     "execution_count": 115,
     "metadata": {},
     "output_type": "execute_result"
    }
   ],
   "source": [
    "type(caos)"
   ]
  },
  {
   "cell_type": "code",
   "execution_count": 116,
   "metadata": {},
   "outputs": [],
   "source": [
    "a = set([1,2,3])"
   ]
  },
  {
   "cell_type": "code",
   "execution_count": 141,
   "metadata": {},
   "outputs": [
    {
     "data": {
      "text/plain": [
       "list"
      ]
     },
     "execution_count": 141,
     "metadata": {},
     "output_type": "execute_result"
    }
   ],
   "source": [
    "type(caos[0][\"cosas\"][0])"
   ]
  },
  {
   "cell_type": "code",
   "execution_count": 167,
   "metadata": {},
   "outputs": [],
   "source": [
    "caos = [{\"cosas\":([{\"clave\":[1]},{\"clave\":[2]},{\"clave\":[3]}],)}]"
   ]
  },
  {
   "cell_type": "code",
   "execution_count": 173,
   "metadata": {},
   "outputs": [
    {
     "data": {
      "text/plain": [
       "1"
      ]
     },
     "execution_count": 173,
     "metadata": {},
     "output_type": "execute_result"
    }
   ],
   "source": [
    "caos[0][\"cosas\"][0][0][\"clave\"][0]"
   ]
  },
  {
   "cell_type": "code",
   "execution_count": 145,
   "metadata": {},
   "outputs": [
    {
     "data": {
      "text/plain": [
       "1"
      ]
     },
     "execution_count": 145,
     "metadata": {},
     "output_type": "execute_result"
    }
   ],
   "source": [
    "\n",
    "caos[0][\"cosas\"][0][0][\"clave\"][0]\n",
    "\n",
    "\n"
   ]
  },
  {
   "cell_type": "code",
   "execution_count": 191,
   "metadata": {},
   "outputs": [],
   "source": [
    "class Meollo:\n",
    "\n",
    "    def __init__(self, caos):\n",
    "        self.caos = caos\n",
    "        \n",
    "    def suma(self):\n",
    "        total = self.caos[0][\"cosas\"][0][0][\"clave\"][0] + self.caos[0][\"cosas\"][0][1][\"clave\"][0] + self.caos[0][\"cosas\"][0][2][\"clave\"][0]\n",
    "        return total\n",
    "    \n",
    "    def suma1(self):\n",
    "        numeritos=[]\n",
    "        for diccionarios in self.caos[0][\"cosas\"][0]:\n",
    "            print(diccionarios[\"clave\"][0])\n",
    "            numeritos.append(diccionarios[\"clave\"][0])\n",
    "        return sum(numeritos)\n",
    "\n",
    "        \n",
    "    def cambio(self):\n",
    "        pos0 = self.caos[0][\"cosas\"][0][0][\"clave\"][0]\n",
    "        pos2 = self.caos[0][\"cosas\"][0][2][\"clave\"][0]\n",
    "        pos1 = self.caos[0][\"cosas\"][0][1][\"clave\"][0]\n",
    "        self.caos[0][\"cosas\"][0][0][\"clave\"][0] = pos2\n",
    "        self.caos[0][\"cosas\"][0][1][\"clave\"][0] = pos0\n",
    "        self.caos[0][\"cosas\"][0][2][\"clave\"][0] = pos1\n",
    "        return self.caos"
   ]
  },
  {
   "cell_type": "code",
   "execution_count": 192,
   "metadata": {},
   "outputs": [],
   "source": [
    "mareo = Meollo([{\"cosas\":([{\"clave\":[1]},{\"clave\":[2]},{\"clave\":[3]}],)}])\n"
   ]
  },
  {
   "cell_type": "code",
   "execution_count": 193,
   "metadata": {},
   "outputs": [
    {
     "data": {
      "text/plain": [
       "6"
      ]
     },
     "execution_count": 193,
     "metadata": {},
     "output_type": "execute_result"
    }
   ],
   "source": [
    "mareo.suma()"
   ]
  },
  {
   "cell_type": "code",
   "execution_count": 194,
   "metadata": {},
   "outputs": [
    {
     "data": {
      "text/plain": [
       "[{'cosas': ([{'clave': [3]}, {'clave': [1]}, {'clave': [2]}],)}]"
      ]
     },
     "execution_count": 194,
     "metadata": {},
     "output_type": "execute_result"
    }
   ],
   "source": [
    "\n",
    "mareo.cambio()"
   ]
  },
  {
   "cell_type": "code",
   "execution_count": 190,
   "metadata": {},
   "outputs": [
    {
     "name": "stdout",
     "output_type": "stream",
     "text": [
      "1\n",
      "2\n",
      "3\n"
     ]
    },
    {
     "data": {
      "text/plain": [
       "6"
      ]
     },
     "execution_count": 190,
     "metadata": {},
     "output_type": "execute_result"
    }
   ],
   "source": [
    "mareo.suma1()"
   ]
  },
  {
   "cell_type": "markdown",
   "metadata": {},
   "source": [
    "Crea una clase llamada `Movil()`. Todos los móviles tendran:\n",
    "* Batería (bool) = True\n",
    "\n",
    "El resto de atributos serán particulares:\n",
    "* marca (str)\n",
    "* carga (float): porcentaje de batería de 0 a 100, por defecto 60.0\n",
    "* camara (int) : Nº de megapixels\n",
    "* memoria (int): Nº de fotos totales que se pueden almacenar\n",
    "\n",
    "1. Deberás crear el método de `cargar()`, lo que hará será incrementar la batería un 30%. Si llega al 100% no aumentará más y devolverá un mensaje de `Batería cargada`. Deberá devolver el estado de la batería tras cargar.\n",
    "2. Deberás crear el método de `hacer_foto()`, con un argumento de entrada llamado `n_fotos` de tipo entero que será el número de fotos a realizar. Cada una de esas fotos, ocuparán memoria, por lo que deberá actualizar su atributo. Deberá devolver la memoria restante, y en caso de que se quede sin memoria, no se realizarán las fotos y deberá devolver un mensaje de `Memoria insuficiente`. Documenta la clase\n",
    "\n",
    "Ahora con la clase ya creada:\n",
    "1. Crea 3 objetos a partir de la clase, un \"Samsung\" con un 45.5% de carga, un \"Xiaomi\" y un \"Apple\". Todos ellos tendrán 1000 de memoria, menos el Apple que tendrá 500.\n",
    "2. Carga los 3 móviles hasta que muestre el mensaje de que la batería está cargada y muestra por pantalla su batería. Realiza 800 fotos con los 3 móviles utilizando un `input()` y comprueba el atributo de memoria."
   ]
  },
  {
   "cell_type": "code",
   "execution_count": 370,
   "metadata": {},
   "outputs": [],
   "source": [
    "class Movil:\n",
    "    bateria = True\n",
    "\n",
    "    def __init__ (self,marca,camara, memoria, carga=60.0):\n",
    "        self.marca = marca\n",
    "        self.carga = carga\n",
    "        self.camara = camara\n",
    "        self.memoria = memoria\n",
    "    \n",
    "    def cargar(self):\n",
    "        self.carga+=30\n",
    "        if self.carga>100:\n",
    "            self.carga = 100\n",
    "            print(\"Bateria caragada\")\n",
    "            return self.carga\n",
    "    \n",
    "    def hacer_foto (self, n_fotos):# podríamos contemplar la opción de generar una nueva variable como \"nueva_memoria\". con esto podríamos hacer una comprobación\n",
    "        #antes de ejecutar el if, sería: if nueva_memoria <0\n",
    "        if self.memoria> n_fotos:\n",
    "            self.memoria -= n_fotos\n",
    "            print(f\"Te queda {self.memoria} de memoria\")\n",
    "        elif self.memoria < n_fotos:\n",
    "            print(\"Demasiadas fotos. Memoria insuficiente\")\n",
    "            self.memoria=0\n",
    "            print(f\"Te queda {self.memoria} de memoria\")\n",
    "\n",
    "    def hacer_foto2 (self, n_fotos):\n",
    "        nueva_memoria = self.memoria-n_fotos\n",
    "        if nueva_memoria < 0:\n",
    "            print(\"Memoria insuficiente\")\n",
    "        self.memoria = nueva_memoria\n",
    "        return self.memoria\n",
    "    \n",
    "        "
   ]
  },
  {
   "cell_type": "code",
   "execution_count": 371,
   "metadata": {},
   "outputs": [],
   "source": [
    "telf1 = Movil(\"Samsung\", 50, 1000, 45.5)\n",
    "telf2 = Movil(\"Xiaomi\", 50,1000)\n",
    "telf3 = Movil(\"Apple\", 50, 500)"
   ]
  },
  {
   "cell_type": "code",
   "execution_count": 372,
   "metadata": {},
   "outputs": [],
   "source": [
    "telf1.cargar()"
   ]
  },
  {
   "cell_type": "code",
   "execution_count": 373,
   "metadata": {},
   "outputs": [],
   "source": [
    "telf2.cargar()"
   ]
  },
  {
   "cell_type": "code",
   "execution_count": 374,
   "metadata": {},
   "outputs": [],
   "source": [
    "telf3.cargar()\n"
   ]
  },
  {
   "cell_type": "code",
   "execution_count": 375,
   "metadata": {},
   "outputs": [],
   "source": [
    "n_fotos = int(input(\"¿Cuantas fotos has hecho?\"))\n"
   ]
  },
  {
   "cell_type": "code",
   "execution_count": 376,
   "metadata": {},
   "outputs": [
    {
     "name": "stdout",
     "output_type": "stream",
     "text": [
      "Te queda 200 de memoria\n"
     ]
    }
   ],
   "source": [
    "telf1.hacer_foto(n_fotos)\n"
   ]
  },
  {
   "cell_type": "code",
   "execution_count": 377,
   "metadata": {},
   "outputs": [
    {
     "name": "stdout",
     "output_type": "stream",
     "text": [
      "Te queda 200 de memoria\n"
     ]
    }
   ],
   "source": [
    "telf2.hacer_foto(n_fotos)"
   ]
  },
  {
   "cell_type": "code",
   "execution_count": 378,
   "metadata": {},
   "outputs": [
    {
     "name": "stdout",
     "output_type": "stream",
     "text": [
      "Demasiadas fotos. Memoria insuficiente\n",
      "Te queda 0 de memoria\n"
     ]
    }
   ],
   "source": [
    "telf3.hacer_foto(n_fotos)"
   ]
  },
  {
   "cell_type": "code",
   "execution_count": 380,
   "metadata": {},
   "outputs": [
    {
     "name": "stdout",
     "output_type": "stream",
     "text": [
      "Demasiadas fotos. Memoria insuficiente\n",
      "Te queda 0 de memoria\n",
      "Demasiadas fotos. Memoria insuficiente\n",
      "Te queda 0 de memoria\n",
      "Demasiadas fotos. Memoria insuficiente\n",
      "Te queda 0 de memoria\n"
     ]
    },
    {
     "ename": "SyntaxError",
     "evalue": "'return' outside function (728659172.py, line 3)",
     "output_type": "error",
     "traceback": [
      "\u001b[1;36m  Cell \u001b[1;32mIn[380], line 3\u001b[1;36m\u001b[0m\n\u001b[1;33m    return self.memoria\u001b[0m\n\u001b[1;37m    ^\u001b[0m\n\u001b[1;31mSyntaxError\u001b[0m\u001b[1;31m:\u001b[0m 'return' outside function\n"
     ]
    }
   ],
   "source": [
    "for movil in [telf1, telf2, telf3]:\n",
    "    movil.hacer_foto(n_fotos)\n",
    "return self.memoria"
   ]
  },
  {
   "cell_type": "code",
   "execution_count": null,
   "metadata": {},
   "outputs": [],
   "source": [
    "#crea una lista con un numero, una tupla con un string y un diccionario con tres claves (nombre, apellido y edad)\n",
    "#muestra solo los valores de edad cuyo nombre empiece por vocal\n",
    "#si el apellido tiene mas de 4 caracteres, muestra el nombre y a continuación el string concatenado tantas veces como vale el primre numero"
   ]
  },
  {
   "cell_type": "code",
   "execution_count": 395,
   "metadata": {},
   "outputs": [
    {
     "name": "stdout",
     "output_type": "stream",
     "text": [
      "40\n"
     ]
    }
   ],
   "source": [
    "lista = [6,(\"hola\",),{\"nombre\": \"amanda\", \"apellido\": \"martinez\", \"edad\": 40}]\n",
    "\n",
    "if lista[2][\"nombre\"][0] == (\"a\"or\"e\"or\"i\"or\"o\"or\"u\"):\n",
    "    print(lista[2][\"edad\"])\n"
   ]
  },
  {
   "cell_type": "code",
   "execution_count": 403,
   "metadata": {},
   "outputs": [
    {
     "name": "stdout",
     "output_type": "stream",
     "text": [
      "amanda holaholaholaholaholahola\n"
     ]
    }
   ],
   "source": [
    "lista = [6,(\"hola\",),{\"nombre\": \"amanda\", \"apellido\": \"jaenes\", \"edad\": 40}]\n",
    "if len(lista[2][\"apellido\"])>4:\n",
    "    print(lista[2][\"nombre\"]+\" \"+str(lista[1][0])*lista[0])\n"
   ]
  },
  {
   "cell_type": "code",
   "execution_count": 400,
   "metadata": {},
   "outputs": [
    {
     "name": "stdout",
     "output_type": "stream",
     "text": [
      "martinez\n"
     ]
    }
   ],
   "source": [
    "print(lista[2][\"apellido\"])"
   ]
  },
  {
   "cell_type": "code",
   "execution_count": 391,
   "metadata": {},
   "outputs": [
    {
     "name": "stdout",
     "output_type": "stream",
     "text": [
      "a\n"
     ]
    }
   ],
   "source": [
    "print(lista[2][\"nombre\"][0]"
   ]
  },
  {
   "cell_type": "markdown",
   "metadata": {},
   "source": [
    "Nombre: Biblioteca\n",
    "#### Atributos:\n",
    "\n",
    "nombre: Nombre de la biblioteca (str)\n",
    "libros: Lista de diccionarios que representan libros (list)\n",
    "\n",
    "##### Cada diccionario tendrá las siguientes claves:\n",
    " \n",
    "titulo: Título del libro (str)\n",
    "autor: Autor del libro (str)\n",
    "genero: Género del libro (str)\n",
    "año: Año de publicación del libro (int)\n",
    "prestado: Indica si el libro está prestado (bool)\n",
    "\n",
    "\n",
    "#### Métodos:\n",
    "\n",
    "agregar_libro(titulo, autor, genero, año): Añade un nuevo libro a la lista de libros.\n",
    "prestar_libro(titulo): Cambia el estado del libro a \"prestado\" si el libro está disponible.\n",
    "devolver_libro(titulo): Cambia el estado del libro a \"disponible\".\n",
    "buscar_libro(titulo): Busca un libro por su título y devuelve el diccionario del libro si se encuentra.\n",
    "listar_libros(genero): Lista todos los libros de un género específico.\n",
    "\n",
    "biblioteca = Biblioteca(\"Biblioteca Pública\")\n",
    "\n",
    "biblioteca.agregar_libro(\"El Principito\", \"Antoine de Saint-Exupéry\", \"Fantasía\", 1943)\n",
    "biblioteca.agregar_libro(\"Cien años de soledad\", \"Gabriel García Márquez\", \"Realismo mágico\", 1967)\n",
    "\n",
    "biblioteca.prestar_libro(\"El Principito\")\n",
    "\n",
    "libro = biblioteca.buscar_libro(\"Cien años de soledad\")\n",
    "\n",
    "biblioteca.listar_libros(\"Fantasía\")"
   ]
  },
  {
   "cell_type": "code",
   "execution_count": 600,
   "metadata": {},
   "outputs": [],
   "source": [
    "class Biblioteca:\n",
    "    libros = []\n",
    "    def __init__ (self, nombre, libros):\n",
    "        self.nombre = nombre\n",
    "        self.libros = libros\n",
    "    \n",
    "    def agregar_libros(self, titulo, autor,genero,anyo,prestado=False):\n",
    "        '''agregar_libro(titulo, autor, genero, año): Añade un nuevo libro a la lista de libros.'''\n",
    "        libro = {}\n",
    "        libro[\"titulo\"]=titulo\n",
    "        libro[\"autor\"]=autor\n",
    "        libro[\"genero\"]=genero\n",
    "        libro[\"anyo\"]=anyo\n",
    "        libro[\"prestado\"]=prestado\n",
    "        self.libros.append(libro)\n",
    "        print(libro)\n",
    "\n",
    "    def prestar_libro (self, titulo):\n",
    "        for libro in self.libros:\n",
    "            if libro[\"titulo\"]== titulo:\n",
    "                if libro[\"prestado\"] == False:\n",
    "                    libro[\"prestado\"] = True\n",
    "        return self.libros\n",
    "    \n",
    "    def devolver_libro (self, titulo):\n",
    "        for libro in self.libros:\n",
    "            if libro[\"titulo\"]== titulo:\n",
    "                if libro[\"prestado\"] == True:\n",
    "                    libro[\"prestado\"] = False\n",
    "        return self.libros\n",
    "    \n",
    "    def buscar_libro (self, titulo):\n",
    "        for libro in self.libros:\n",
    "            if libro[\"titulo\"]==titulo:\n",
    "                return libro\n",
    "    \n",
    "    def listar_libros (self, genero):\n",
    "        lista_libros=[]\n",
    "        for libro in self.libros:\n",
    "            if libro[\"genero\"] == genero:\n",
    "                lista_libros.append(libro)\n",
    "        return lista_libros\n",
    "\n",
    "    \n",
    "\n",
    "        \n",
    "\n",
    "\n"
   ]
  },
  {
   "cell_type": "code",
   "execution_count": 601,
   "metadata": {},
   "outputs": [],
   "source": [
    "bibli = Biblioteca(\"Alejandría\", [])\n"
   ]
  },
  {
   "cell_type": "code",
   "execution_count": 602,
   "metadata": {},
   "outputs": [
    {
     "data": {
      "text/plain": [
       "'Alejandría'"
      ]
     },
     "execution_count": 602,
     "metadata": {},
     "output_type": "execute_result"
    }
   ],
   "source": [
    "\n",
    "bibli.nombre"
   ]
  },
  {
   "cell_type": "code",
   "execution_count": 603,
   "metadata": {},
   "outputs": [
    {
     "data": {
      "text/plain": [
       "[]"
      ]
     },
     "execution_count": 603,
     "metadata": {},
     "output_type": "execute_result"
    }
   ],
   "source": [
    "bibli.libros"
   ]
  },
  {
   "cell_type": "code",
   "execution_count": 604,
   "metadata": {},
   "outputs": [
    {
     "name": "stdout",
     "output_type": "stream",
     "text": [
      "{'titulo': 'El Principito', 'autor': 'Antoine de Saint-Exupéry', 'genero': 'Fantasía', 'anyo': 1943, 'prestado': False}\n"
     ]
    }
   ],
   "source": [
    "bibli.agregar_libros(\"El Principito\", \"Antoine de Saint-Exupéry\", \"Fantasía\", 1943)"
   ]
  },
  {
   "cell_type": "code",
   "execution_count": 605,
   "metadata": {},
   "outputs": [
    {
     "data": {
      "text/plain": [
       "[{'titulo': 'El Principito',\n",
       "  'autor': 'Antoine de Saint-Exupéry',\n",
       "  'genero': 'Fantasía',\n",
       "  'anyo': 1943,\n",
       "  'prestado': False}]"
      ]
     },
     "execution_count": 605,
     "metadata": {},
     "output_type": "execute_result"
    }
   ],
   "source": [
    "bibli.libros"
   ]
  },
  {
   "cell_type": "code",
   "execution_count": 606,
   "metadata": {},
   "outputs": [
    {
     "name": "stdout",
     "output_type": "stream",
     "text": [
      "{'titulo': 'Cien años de soledad', 'autor': 'Gabriel García Márquez', 'genero': 'Realismo mágico', 'anyo': 1967, 'prestado': False}\n"
     ]
    }
   ],
   "source": [
    "bibli.agregar_libros(\"Cien años de soledad\", \"Gabriel García Márquez\", \"Realismo mágico\", 1967)"
   ]
  },
  {
   "cell_type": "code",
   "execution_count": 607,
   "metadata": {},
   "outputs": [
    {
     "data": {
      "text/plain": [
       "[{'titulo': 'El Principito',\n",
       "  'autor': 'Antoine de Saint-Exupéry',\n",
       "  'genero': 'Fantasía',\n",
       "  'anyo': 1943,\n",
       "  'prestado': False},\n",
       " {'titulo': 'Cien años de soledad',\n",
       "  'autor': 'Gabriel García Márquez',\n",
       "  'genero': 'Realismo mágico',\n",
       "  'anyo': 1967,\n",
       "  'prestado': False}]"
      ]
     },
     "execution_count": 607,
     "metadata": {},
     "output_type": "execute_result"
    }
   ],
   "source": [
    "bibli.libros\n"
   ]
  },
  {
   "cell_type": "code",
   "execution_count": 608,
   "metadata": {},
   "outputs": [
    {
     "data": {
      "text/plain": [
       "[{'titulo': 'El Principito',\n",
       "  'autor': 'Antoine de Saint-Exupéry',\n",
       "  'genero': 'Fantasía',\n",
       "  'anyo': 1943,\n",
       "  'prestado': True},\n",
       " {'titulo': 'Cien años de soledad',\n",
       "  'autor': 'Gabriel García Márquez',\n",
       "  'genero': 'Realismo mágico',\n",
       "  'anyo': 1967,\n",
       "  'prestado': False}]"
      ]
     },
     "execution_count": 608,
     "metadata": {},
     "output_type": "execute_result"
    }
   ],
   "source": [
    "bibli.prestar_libro(\"El Principito\")"
   ]
  },
  {
   "cell_type": "code",
   "execution_count": 609,
   "metadata": {},
   "outputs": [
    {
     "data": {
      "text/plain": [
       "[{'titulo': 'El Principito',\n",
       "  'autor': 'Antoine de Saint-Exupéry',\n",
       "  'genero': 'Fantasía',\n",
       "  'anyo': 1943,\n",
       "  'prestado': False},\n",
       " {'titulo': 'Cien años de soledad',\n",
       "  'autor': 'Gabriel García Márquez',\n",
       "  'genero': 'Realismo mágico',\n",
       "  'anyo': 1967,\n",
       "  'prestado': False}]"
      ]
     },
     "execution_count": 609,
     "metadata": {},
     "output_type": "execute_result"
    }
   ],
   "source": [
    "bibli.devolver_libro(\"El Principito\")"
   ]
  },
  {
   "cell_type": "code",
   "execution_count": 610,
   "metadata": {},
   "outputs": [
    {
     "data": {
      "text/plain": [
       "{'titulo': 'El Principito',\n",
       " 'autor': 'Antoine de Saint-Exupéry',\n",
       " 'genero': 'Fantasía',\n",
       " 'anyo': 1943,\n",
       " 'prestado': False}"
      ]
     },
     "execution_count": 610,
     "metadata": {},
     "output_type": "execute_result"
    }
   ],
   "source": [
    "bibli.buscar_libro(\"El Principito\")"
   ]
  },
  {
   "cell_type": "code",
   "execution_count": 611,
   "metadata": {},
   "outputs": [
    {
     "data": {
      "text/plain": [
       "[{'titulo': 'El Principito',\n",
       "  'autor': 'Antoine de Saint-Exupéry',\n",
       "  'genero': 'Fantasía',\n",
       "  'anyo': 1943,\n",
       "  'prestado': False}]"
      ]
     },
     "execution_count": 611,
     "metadata": {},
     "output_type": "execute_result"
    }
   ],
   "source": [
    "bibli.listar_libros(\"Fantasía\")"
   ]
  },
  {
   "cell_type": "code",
   "execution_count": null,
   "metadata": {},
   "outputs": [],
   "source": []
  },
  {
   "cell_type": "code",
   "execution_count": null,
   "metadata": {},
   "outputs": [],
   "source": []
  }
 ],
 "metadata": {
  "kernelspec": {
   "display_name": "Python 3.7.4 64-bit",
   "language": "python",
   "name": "python3"
  },
  "language_info": {
   "codemirror_mode": {
    "name": "ipython",
    "version": 3
   },
   "file_extension": ".py",
   "mimetype": "text/x-python",
   "name": "python",
   "nbconvert_exporter": "python",
   "pygments_lexer": "ipython3",
   "version": "3.12.1"
  },
  "vscode": {
   "interpreter": {
    "hash": "90139cb9a825bf3d63f6f6704e828dbd1ff7edbd4d0c6e906a71235d6efc74af"
   }
  }
 },
 "nbformat": 4,
 "nbformat_minor": 4
}
